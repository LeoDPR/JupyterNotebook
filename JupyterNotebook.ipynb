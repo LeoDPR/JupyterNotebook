{
  "nbformat": 4,
  "nbformat_minor": 0,
  "metadata": {
    "colab": {
      "provenance": []
    },
    "kernelspec": {
      "name": "python3",
      "display_name": "Python 3"
    },
    "language_info": {
      "name": "python"
    },
    "widgets": {
      "application/vnd.jupyter.widget-state+json": {
        "83016b06b0b14304a13fbc380973d857": {
          "model_module": "@jupyter-widgets/controls",
          "model_name": "VBoxModel",
          "model_module_version": "1.5.0",
          "state": {
            "_dom_classes": [
              "widget-interact"
            ],
            "_model_module": "@jupyter-widgets/controls",
            "_model_module_version": "1.5.0",
            "_model_name": "VBoxModel",
            "_view_count": null,
            "_view_module": "@jupyter-widgets/controls",
            "_view_module_version": "1.5.0",
            "_view_name": "VBoxView",
            "box_style": "",
            "children": [
              "IPY_MODEL_f006505e05424792995a8c61067c6e51",
              "IPY_MODEL_205413174f6046dbbac32e75e81dba3e",
              "IPY_MODEL_6af2402b8d2e4ace82fa9aca0311367c",
              "IPY_MODEL_91bb3c662ed24bfaba6a387b563edfc6",
              "IPY_MODEL_5201223e3701457aba908528e992b82d",
              "IPY_MODEL_d3562cc079c741d7ae00e5f8cb06bcb8"
            ],
            "layout": "IPY_MODEL_6921285e79b942f3870c4e7abcee2ce6"
          }
        },
        "f006505e05424792995a8c61067c6e51": {
          "model_module": "@jupyter-widgets/controls",
          "model_name": "IntSliderModel",
          "model_module_version": "1.5.0",
          "state": {
            "_dom_classes": [],
            "_model_module": "@jupyter-widgets/controls",
            "_model_module_version": "1.5.0",
            "_model_name": "IntSliderModel",
            "_view_count": null,
            "_view_module": "@jupyter-widgets/controls",
            "_view_module_version": "1.5.0",
            "_view_name": "IntSliderView",
            "continuous_update": true,
            "description": "size",
            "description_tooltip": null,
            "disabled": false,
            "layout": "IPY_MODEL_4f2a8caf7b7048ef83e90cb5a111727e",
            "max": 300,
            "min": -100,
            "orientation": "horizontal",
            "readout": true,
            "readout_format": "d",
            "step": 1,
            "style": "IPY_MODEL_f403e57099cc42508948b6615f25a227",
            "value": 100
          }
        },
        "205413174f6046dbbac32e75e81dba3e": {
          "model_module": "@jupyter-widgets/controls",
          "model_name": "IntSliderModel",
          "model_module_version": "1.5.0",
          "state": {
            "_dom_classes": [],
            "_model_module": "@jupyter-widgets/controls",
            "_model_module_version": "1.5.0",
            "_model_name": "IntSliderModel",
            "_view_count": null,
            "_view_module": "@jupyter-widgets/controls",
            "_view_module_version": "1.5.0",
            "_view_name": "IntSliderView",
            "continuous_update": true,
            "description": "bins",
            "description_tooltip": null,
            "disabled": false,
            "layout": "IPY_MODEL_9a4e5a3558894fabb115592fa6442eb8",
            "max": 30,
            "min": -10,
            "orientation": "horizontal",
            "readout": true,
            "readout_format": "d",
            "step": 1,
            "style": "IPY_MODEL_c681877c8b774f54a6ef9fb270497cea",
            "value": 10
          }
        },
        "6af2402b8d2e4ace82fa9aca0311367c": {
          "model_module": "@jupyter-widgets/controls",
          "model_name": "IntSliderModel",
          "model_module_version": "1.5.0",
          "state": {
            "_dom_classes": [],
            "_model_module": "@jupyter-widgets/controls",
            "_model_module_version": "1.5.0",
            "_model_name": "IntSliderModel",
            "_view_count": null,
            "_view_module": "@jupyter-widgets/controls",
            "_view_module_version": "1.5.0",
            "_view_name": "IntSliderView",
            "continuous_update": true,
            "description": "loc",
            "description_tooltip": null,
            "disabled": false,
            "layout": "IPY_MODEL_d47565fc78e04469b67fbf94079b3b3d",
            "max": 1,
            "min": 0,
            "orientation": "horizontal",
            "readout": true,
            "readout_format": "d",
            "step": 1,
            "style": "IPY_MODEL_33ad6fa8241d44b4ace5028d75880bcc",
            "value": 0
          }
        },
        "91bb3c662ed24bfaba6a387b563edfc6": {
          "model_module": "@jupyter-widgets/controls",
          "model_name": "IntSliderModel",
          "model_module_version": "1.5.0",
          "state": {
            "_dom_classes": [],
            "_model_module": "@jupyter-widgets/controls",
            "_model_module_version": "1.5.0",
            "_model_name": "IntSliderModel",
            "_view_count": null,
            "_view_module": "@jupyter-widgets/controls",
            "_view_module_version": "1.5.0",
            "_view_name": "IntSliderView",
            "continuous_update": true,
            "description": "scale",
            "description_tooltip": null,
            "disabled": false,
            "layout": "IPY_MODEL_562d8cf5e36e40c6a7c79b2241b2153a",
            "max": 3,
            "min": -1,
            "orientation": "horizontal",
            "readout": true,
            "readout_format": "d",
            "step": 1,
            "style": "IPY_MODEL_8b1666820a1b40ccb185b81e784f9a0c",
            "value": 1
          }
        },
        "5201223e3701457aba908528e992b82d": {
          "model_module": "@jupyter-widgets/controls",
          "model_name": "TextModel",
          "model_module_version": "1.5.0",
          "state": {
            "_dom_classes": [],
            "_model_module": "@jupyter-widgets/controls",
            "_model_module_version": "1.5.0",
            "_model_name": "TextModel",
            "_view_count": null,
            "_view_module": "@jupyter-widgets/controls",
            "_view_module_version": "1.5.0",
            "_view_name": "TextView",
            "continuous_update": true,
            "description": "color",
            "description_tooltip": null,
            "disabled": false,
            "layout": "IPY_MODEL_1248e030614449e88df7e75f742259af",
            "placeholder": "​",
            "style": "IPY_MODEL_ef65c7176fb344c089c00b731f4f8b4d",
            "value": "red"
          }
        },
        "d3562cc079c741d7ae00e5f8cb06bcb8": {
          "model_module": "@jupyter-widgets/output",
          "model_name": "OutputModel",
          "model_module_version": "1.0.0",
          "state": {
            "_dom_classes": [],
            "_model_module": "@jupyter-widgets/output",
            "_model_module_version": "1.0.0",
            "_model_name": "OutputModel",
            "_view_count": null,
            "_view_module": "@jupyter-widgets/output",
            "_view_module_version": "1.0.0",
            "_view_name": "OutputView",
            "layout": "IPY_MODEL_ecbb5224e2b946fea2a4b224f4ec2339",
            "msg_id": "",
            "outputs": [
              {
                "output_type": "display_data",
                "data": {
                  "text/plain": "<Figure size 432x288 with 1 Axes>",
                  "image/png": "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\n"
                },
                "metadata": {
                  "needs_background": "light"
                }
              }
            ]
          }
        },
        "6921285e79b942f3870c4e7abcee2ce6": {
          "model_module": "@jupyter-widgets/base",
          "model_name": "LayoutModel",
          "model_module_version": "1.2.0",
          "state": {
            "_model_module": "@jupyter-widgets/base",
            "_model_module_version": "1.2.0",
            "_model_name": "LayoutModel",
            "_view_count": null,
            "_view_module": "@jupyter-widgets/base",
            "_view_module_version": "1.2.0",
            "_view_name": "LayoutView",
            "align_content": null,
            "align_items": null,
            "align_self": null,
            "border": null,
            "bottom": null,
            "display": null,
            "flex": null,
            "flex_flow": null,
            "grid_area": null,
            "grid_auto_columns": null,
            "grid_auto_flow": null,
            "grid_auto_rows": null,
            "grid_column": null,
            "grid_gap": null,
            "grid_row": null,
            "grid_template_areas": null,
            "grid_template_columns": null,
            "grid_template_rows": null,
            "height": null,
            "justify_content": null,
            "justify_items": null,
            "left": null,
            "margin": null,
            "max_height": null,
            "max_width": null,
            "min_height": null,
            "min_width": null,
            "object_fit": null,
            "object_position": null,
            "order": null,
            "overflow": null,
            "overflow_x": null,
            "overflow_y": null,
            "padding": null,
            "right": null,
            "top": null,
            "visibility": null,
            "width": null
          }
        },
        "4f2a8caf7b7048ef83e90cb5a111727e": {
          "model_module": "@jupyter-widgets/base",
          "model_name": "LayoutModel",
          "model_module_version": "1.2.0",
          "state": {
            "_model_module": "@jupyter-widgets/base",
            "_model_module_version": "1.2.0",
            "_model_name": "LayoutModel",
            "_view_count": null,
            "_view_module": "@jupyter-widgets/base",
            "_view_module_version": "1.2.0",
            "_view_name": "LayoutView",
            "align_content": null,
            "align_items": null,
            "align_self": null,
            "border": null,
            "bottom": null,
            "display": null,
            "flex": null,
            "flex_flow": null,
            "grid_area": null,
            "grid_auto_columns": null,
            "grid_auto_flow": null,
            "grid_auto_rows": null,
            "grid_column": null,
            "grid_gap": null,
            "grid_row": null,
            "grid_template_areas": null,
            "grid_template_columns": null,
            "grid_template_rows": null,
            "height": null,
            "justify_content": null,
            "justify_items": null,
            "left": null,
            "margin": null,
            "max_height": null,
            "max_width": null,
            "min_height": null,
            "min_width": null,
            "object_fit": null,
            "object_position": null,
            "order": null,
            "overflow": null,
            "overflow_x": null,
            "overflow_y": null,
            "padding": null,
            "right": null,
            "top": null,
            "visibility": null,
            "width": null
          }
        },
        "f403e57099cc42508948b6615f25a227": {
          "model_module": "@jupyter-widgets/controls",
          "model_name": "SliderStyleModel",
          "model_module_version": "1.5.0",
          "state": {
            "_model_module": "@jupyter-widgets/controls",
            "_model_module_version": "1.5.0",
            "_model_name": "SliderStyleModel",
            "_view_count": null,
            "_view_module": "@jupyter-widgets/base",
            "_view_module_version": "1.2.0",
            "_view_name": "StyleView",
            "description_width": "",
            "handle_color": null
          }
        },
        "9a4e5a3558894fabb115592fa6442eb8": {
          "model_module": "@jupyter-widgets/base",
          "model_name": "LayoutModel",
          "model_module_version": "1.2.0",
          "state": {
            "_model_module": "@jupyter-widgets/base",
            "_model_module_version": "1.2.0",
            "_model_name": "LayoutModel",
            "_view_count": null,
            "_view_module": "@jupyter-widgets/base",
            "_view_module_version": "1.2.0",
            "_view_name": "LayoutView",
            "align_content": null,
            "align_items": null,
            "align_self": null,
            "border": null,
            "bottom": null,
            "display": null,
            "flex": null,
            "flex_flow": null,
            "grid_area": null,
            "grid_auto_columns": null,
            "grid_auto_flow": null,
            "grid_auto_rows": null,
            "grid_column": null,
            "grid_gap": null,
            "grid_row": null,
            "grid_template_areas": null,
            "grid_template_columns": null,
            "grid_template_rows": null,
            "height": null,
            "justify_content": null,
            "justify_items": null,
            "left": null,
            "margin": null,
            "max_height": null,
            "max_width": null,
            "min_height": null,
            "min_width": null,
            "object_fit": null,
            "object_position": null,
            "order": null,
            "overflow": null,
            "overflow_x": null,
            "overflow_y": null,
            "padding": null,
            "right": null,
            "top": null,
            "visibility": null,
            "width": null
          }
        },
        "c681877c8b774f54a6ef9fb270497cea": {
          "model_module": "@jupyter-widgets/controls",
          "model_name": "SliderStyleModel",
          "model_module_version": "1.5.0",
          "state": {
            "_model_module": "@jupyter-widgets/controls",
            "_model_module_version": "1.5.0",
            "_model_name": "SliderStyleModel",
            "_view_count": null,
            "_view_module": "@jupyter-widgets/base",
            "_view_module_version": "1.2.0",
            "_view_name": "StyleView",
            "description_width": "",
            "handle_color": null
          }
        },
        "d47565fc78e04469b67fbf94079b3b3d": {
          "model_module": "@jupyter-widgets/base",
          "model_name": "LayoutModel",
          "model_module_version": "1.2.0",
          "state": {
            "_model_module": "@jupyter-widgets/base",
            "_model_module_version": "1.2.0",
            "_model_name": "LayoutModel",
            "_view_count": null,
            "_view_module": "@jupyter-widgets/base",
            "_view_module_version": "1.2.0",
            "_view_name": "LayoutView",
            "align_content": null,
            "align_items": null,
            "align_self": null,
            "border": null,
            "bottom": null,
            "display": null,
            "flex": null,
            "flex_flow": null,
            "grid_area": null,
            "grid_auto_columns": null,
            "grid_auto_flow": null,
            "grid_auto_rows": null,
            "grid_column": null,
            "grid_gap": null,
            "grid_row": null,
            "grid_template_areas": null,
            "grid_template_columns": null,
            "grid_template_rows": null,
            "height": null,
            "justify_content": null,
            "justify_items": null,
            "left": null,
            "margin": null,
            "max_height": null,
            "max_width": null,
            "min_height": null,
            "min_width": null,
            "object_fit": null,
            "object_position": null,
            "order": null,
            "overflow": null,
            "overflow_x": null,
            "overflow_y": null,
            "padding": null,
            "right": null,
            "top": null,
            "visibility": null,
            "width": null
          }
        },
        "33ad6fa8241d44b4ace5028d75880bcc": {
          "model_module": "@jupyter-widgets/controls",
          "model_name": "SliderStyleModel",
          "model_module_version": "1.5.0",
          "state": {
            "_model_module": "@jupyter-widgets/controls",
            "_model_module_version": "1.5.0",
            "_model_name": "SliderStyleModel",
            "_view_count": null,
            "_view_module": "@jupyter-widgets/base",
            "_view_module_version": "1.2.0",
            "_view_name": "StyleView",
            "description_width": "",
            "handle_color": null
          }
        },
        "562d8cf5e36e40c6a7c79b2241b2153a": {
          "model_module": "@jupyter-widgets/base",
          "model_name": "LayoutModel",
          "model_module_version": "1.2.0",
          "state": {
            "_model_module": "@jupyter-widgets/base",
            "_model_module_version": "1.2.0",
            "_model_name": "LayoutModel",
            "_view_count": null,
            "_view_module": "@jupyter-widgets/base",
            "_view_module_version": "1.2.0",
            "_view_name": "LayoutView",
            "align_content": null,
            "align_items": null,
            "align_self": null,
            "border": null,
            "bottom": null,
            "display": null,
            "flex": null,
            "flex_flow": null,
            "grid_area": null,
            "grid_auto_columns": null,
            "grid_auto_flow": null,
            "grid_auto_rows": null,
            "grid_column": null,
            "grid_gap": null,
            "grid_row": null,
            "grid_template_areas": null,
            "grid_template_columns": null,
            "grid_template_rows": null,
            "height": null,
            "justify_content": null,
            "justify_items": null,
            "left": null,
            "margin": null,
            "max_height": null,
            "max_width": null,
            "min_height": null,
            "min_width": null,
            "object_fit": null,
            "object_position": null,
            "order": null,
            "overflow": null,
            "overflow_x": null,
            "overflow_y": null,
            "padding": null,
            "right": null,
            "top": null,
            "visibility": null,
            "width": null
          }
        },
        "8b1666820a1b40ccb185b81e784f9a0c": {
          "model_module": "@jupyter-widgets/controls",
          "model_name": "SliderStyleModel",
          "model_module_version": "1.5.0",
          "state": {
            "_model_module": "@jupyter-widgets/controls",
            "_model_module_version": "1.5.0",
            "_model_name": "SliderStyleModel",
            "_view_count": null,
            "_view_module": "@jupyter-widgets/base",
            "_view_module_version": "1.2.0",
            "_view_name": "StyleView",
            "description_width": "",
            "handle_color": null
          }
        },
        "1248e030614449e88df7e75f742259af": {
          "model_module": "@jupyter-widgets/base",
          "model_name": "LayoutModel",
          "model_module_version": "1.2.0",
          "state": {
            "_model_module": "@jupyter-widgets/base",
            "_model_module_version": "1.2.0",
            "_model_name": "LayoutModel",
            "_view_count": null,
            "_view_module": "@jupyter-widgets/base",
            "_view_module_version": "1.2.0",
            "_view_name": "LayoutView",
            "align_content": null,
            "align_items": null,
            "align_self": null,
            "border": null,
            "bottom": null,
            "display": null,
            "flex": null,
            "flex_flow": null,
            "grid_area": null,
            "grid_auto_columns": null,
            "grid_auto_flow": null,
            "grid_auto_rows": null,
            "grid_column": null,
            "grid_gap": null,
            "grid_row": null,
            "grid_template_areas": null,
            "grid_template_columns": null,
            "grid_template_rows": null,
            "height": null,
            "justify_content": null,
            "justify_items": null,
            "left": null,
            "margin": null,
            "max_height": null,
            "max_width": null,
            "min_height": null,
            "min_width": null,
            "object_fit": null,
            "object_position": null,
            "order": null,
            "overflow": null,
            "overflow_x": null,
            "overflow_y": null,
            "padding": null,
            "right": null,
            "top": null,
            "visibility": null,
            "width": null
          }
        },
        "ef65c7176fb344c089c00b731f4f8b4d": {
          "model_module": "@jupyter-widgets/controls",
          "model_name": "DescriptionStyleModel",
          "model_module_version": "1.5.0",
          "state": {
            "_model_module": "@jupyter-widgets/controls",
            "_model_module_version": "1.5.0",
            "_model_name": "DescriptionStyleModel",
            "_view_count": null,
            "_view_module": "@jupyter-widgets/base",
            "_view_module_version": "1.2.0",
            "_view_name": "StyleView",
            "description_width": ""
          }
        },
        "ecbb5224e2b946fea2a4b224f4ec2339": {
          "model_module": "@jupyter-widgets/base",
          "model_name": "LayoutModel",
          "model_module_version": "1.2.0",
          "state": {
            "_model_module": "@jupyter-widgets/base",
            "_model_module_version": "1.2.0",
            "_model_name": "LayoutModel",
            "_view_count": null,
            "_view_module": "@jupyter-widgets/base",
            "_view_module_version": "1.2.0",
            "_view_name": "LayoutView",
            "align_content": null,
            "align_items": null,
            "align_self": null,
            "border": null,
            "bottom": null,
            "display": null,
            "flex": null,
            "flex_flow": null,
            "grid_area": null,
            "grid_auto_columns": null,
            "grid_auto_flow": null,
            "grid_auto_rows": null,
            "grid_column": null,
            "grid_gap": null,
            "grid_row": null,
            "grid_template_areas": null,
            "grid_template_columns": null,
            "grid_template_rows": null,
            "height": null,
            "justify_content": null,
            "justify_items": null,
            "left": null,
            "margin": null,
            "max_height": null,
            "max_width": null,
            "min_height": null,
            "min_width": null,
            "object_fit": null,
            "object_position": null,
            "order": null,
            "overflow": null,
            "overflow_x": null,
            "overflow_y": null,
            "padding": null,
            "right": null,
            "top": null,
            "visibility": null,
            "width": null
          }
        }
      }
    }
  },
  "cells": [
    {
      "cell_type": "markdown",
      "source": [
        "# Jupyter Notebook"
      ],
      "metadata": {
        "id": "iLg-48gcJxka"
      }
    },
    {
      "cell_type": "markdown",
      "source": [
        "## ¿Que es Jupyter Notebook?"
      ],
      "metadata": {
        "id": "x_E7eHjcJ7G-"
      }
    },
    {
      "cell_type": "markdown",
      "source": [
        "Es una aplicacion web de codigo abierto que permite crear, compartir y ejecutar codigo. Tambien puede contener ecuaciones, visualizaciones y texto narrativo."
      ],
      "metadata": {
        "id": "17dPkQMUKOa_"
      }
    },
    {
      "cell_type": "markdown",
      "source": [
        "## Plataformas disponibles."
      ],
      "metadata": {
        "id": "Zv8lMfibMZ0S"
      }
    },
    {
      "cell_type": "markdown",
      "source": [
        "**De manera local**\n",
        "\n",
        "![Windows-10.png](data:image/png;base64,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)![mac os.png](data:image/png;base64,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)\n",
        "\n",
        "**En la nube**\n",
        "\n",
        "![Kaggle.png](data:image/png;base64,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)![colab.png](data:image/png;base64,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)"
      ],
      "metadata": {
        "id": "LZ5voNYQMkLg"
      }
    },
    {
      "cell_type": "markdown",
      "source": [
        "## Ejemplo de codigo\n"
      ],
      "metadata": {
        "id": "Q4u2cmzIUXYn"
      }
    },
    {
      "cell_type": "code",
      "source": [
        "print(\"Hola, soy una linea\")"
      ],
      "metadata": {
        "colab": {
          "base_uri": "https://localhost:8080/"
        },
        "id": "OwJgknv9UbOn",
        "outputId": "43e9da3a-890f-451b-d1dd-652d379e1dc3"
      },
      "execution_count": 3,
      "outputs": [
        {
          "output_type": "stream",
          "name": "stdout",
          "text": [
            "Hola, soy una linea\n"
          ]
        }
      ]
    },
    {
      "cell_type": "code",
      "source": [
        "num1 = 2\n",
        "num2 = 5\n",
        "total = num1 + num2\n",
        "print(\"El total la suma de \", num1 , \"+\" , num2 , \" = \" , total)"
      ],
      "metadata": {
        "colab": {
          "base_uri": "https://localhost:8080/"
        },
        "id": "lvaLipEzU1UC",
        "outputId": "4b5909a7-2ecd-4937-b63a-477a5f38f84e"
      },
      "execution_count": 10,
      "outputs": [
        {
          "output_type": "stream",
          "name": "stdout",
          "text": [
            "El total la suma de  2 + 5  =  7\n"
          ]
        }
      ]
    },
    {
      "cell_type": "markdown",
      "source": [
        "## Ejemplo de grafico\n"
      ],
      "metadata": {
        "id": "2nGY8gDaY_2C"
      }
    },
    {
      "cell_type": "code",
      "source": [
        "from ipywidgets import interact \n",
        "interact(plot_function)\n",
        "None"
      ],
      "metadata": {
        "colab": {
          "base_uri": "https://localhost:8080/",
          "height": 425,
          "referenced_widgets": [
            "83016b06b0b14304a13fbc380973d857",
            "f006505e05424792995a8c61067c6e51",
            "205413174f6046dbbac32e75e81dba3e",
            "6af2402b8d2e4ace82fa9aca0311367c",
            "91bb3c662ed24bfaba6a387b563edfc6",
            "5201223e3701457aba908528e992b82d",
            "d3562cc079c741d7ae00e5f8cb06bcb8",
            "6921285e79b942f3870c4e7abcee2ce6",
            "4f2a8caf7b7048ef83e90cb5a111727e",
            "f403e57099cc42508948b6615f25a227",
            "9a4e5a3558894fabb115592fa6442eb8",
            "c681877c8b774f54a6ef9fb270497cea",
            "d47565fc78e04469b67fbf94079b3b3d",
            "33ad6fa8241d44b4ace5028d75880bcc",
            "562d8cf5e36e40c6a7c79b2241b2153a",
            "8b1666820a1b40ccb185b81e784f9a0c",
            "1248e030614449e88df7e75f742259af",
            "ef65c7176fb344c089c00b731f4f8b4d",
            "ecbb5224e2b946fea2a4b224f4ec2339"
          ]
        },
        "id": "Gw2mwmAJaoQ4",
        "outputId": "b6022036-bcd7-44bb-c8c9-42a720152020"
      },
      "execution_count": 18,
      "outputs": [
        {
          "output_type": "display_data",
          "data": {
            "text/plain": [
              "interactive(children=(IntSlider(value=100, description='size', max=300, min=-100), IntSlider(value=10, descrip…"
            ],
            "application/vnd.jupyter.widget-view+json": {
              "version_major": 2,
              "version_minor": 0,
              "model_id": "83016b06b0b14304a13fbc380973d857"
            }
          },
          "metadata": {}
        }
      ]
    }
  ]
}